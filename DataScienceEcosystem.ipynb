{
  "metadata": {
    "kernelspec": {
      "name": "python",
      "display_name": "Python (Pyodide)",
      "language": "python"
    },
    "language_info": {
      "codemirror_mode": {
        "name": "python",
        "version": 3
      },
      "file_extension": ".py",
      "mimetype": "text/x-python",
      "name": "python",
      "nbconvert_exporter": "python",
      "pygments_lexer": "ipython3",
      "version": "3.8"
    }
  },
  "nbformat_minor": 5,
  "nbformat": 4,
  "cells": [
    {
      "cell_type": "markdown",
      "source": "# Data Science Tools and Ecosystem \n\nIn this notebook, Data Science Tools and Ecosystem are summarized.",
      "metadata": {},
      "id": "f1ccff5a-bd1a-420b-8471-46d4045bdd21"
    },
    {
      "cell_type": "markdown",
      "source": "**Objectives:**\n- Python\n- Data Science libraries\n- Markdown\n- R Programming\n- Simple Arithmetic",
      "metadata": {},
      "id": "fa22fc99-8210-4655-aef1-d61532f1dff4"
    },
    {
      "cell_type": "markdown",
      "source": "Some of the popular languages that Data Scientists use are:\n1. Python\n2. Julia\n3. R",
      "metadata": {},
      "id": "329d0a9e-fe93-494e-9ac1-132cc5cce526"
    },
    {
      "cell_type": "markdown",
      "source": "Some of the commonly used libraries used by Data Scientists includes:\n1. Numpy\n2. Pandas\n3. Matplotlib",
      "metadata": {},
      "id": "6f7897f7-b344-4ad3-b8db-77a5413bae57"
    },
    {
      "cell_type": "markdown",
      "source": "|Data Science Tools|\n|------------------|\n|Jupyter Notebook  |\n|Spyder            |\n|VS Code           |",
      "metadata": {},
      "id": "813ff119-3d82-46a1-8dc4-90e2edfc9223"
    },
    {
      "cell_type": "markdown",
      "source": "### Below are a few examples of evaluating arithmetic expressions in Python",
      "metadata": {},
      "id": "ca9d0ff8-dff8-4881-9df1-c8966ced2aea"
    },
    {
      "cell_type": "code",
      "source": "# This a simple arithmetic expression to mutiply then add integers\n(3*4)+5",
      "metadata": {
        "trusted": true
      },
      "execution_count": 1,
      "outputs": [
        {
          "execution_count": 1,
          "output_type": "execute_result",
          "data": {
            "text/plain": "17"
          },
          "metadata": {}
        }
      ],
      "id": "7416d7bb-ba61-4dec-b50e-dc937cea8c7d"
    },
    {
      "cell_type": "code",
      "source": "# This will convert 200 minutes to hours by diving by 60\n200/60",
      "metadata": {
        "trusted": true
      },
      "execution_count": 3,
      "outputs": [
        {
          "execution_count": 3,
          "output_type": "execute_result",
          "data": {
            "text/plain": "3.3333333333333335"
          },
          "metadata": {}
        }
      ],
      "id": "14673295-f778-4c62-be2d-8c088deeb60b"
    },
    {
      "cell_type": "markdown",
      "source": "## Author\nShashwat Sourav Swain",
      "metadata": {},
      "id": "0a218611-1194-4461-958e-cc9650a17ba0"
    },
    {
      "cell_type": "code",
      "source": "",
      "metadata": {},
      "execution_count": null,
      "outputs": [],
      "id": "13e0e8d5-4e0b-4879-ad49-9c126604ec1d"
    }
  ]
}